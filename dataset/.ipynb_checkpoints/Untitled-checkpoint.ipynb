{
 "cells": [
  {
   "cell_type": "code",
   "execution_count": 20,
   "id": "35e8dc7b",
   "metadata": {},
   "outputs": [],
   "source": [
    "import yfinance as yf\n",
    "import pandas as pd"
   ]
  },
  {
   "cell_type": "code",
   "execution_count": 151,
   "id": "e9333330",
   "metadata": {},
   "outputs": [
    {
     "name": "stdout",
     "output_type": "stream",
     "text": [
      "[*********************100%***********************]  1 of 1 completed\n"
     ]
    }
   ],
   "source": [
    "data = yf.download(\"AAPL\", end='2023-07-10')\n",
    "data = data.reset_index()"
   ]
  },
  {
   "cell_type": "code",
   "execution_count": 152,
   "id": "4323669d",
   "metadata": {},
   "outputs": [
    {
     "data": {
      "text/plain": [
       "dtype('<M8[ns]')"
      ]
     },
     "execution_count": 152,
     "metadata": {},
     "output_type": "execute_result"
    }
   ],
   "source": [
    "data.set_index('Date').asfreq('b')\n",
    "data['Date'].dtype"
   ]
  },
  {
   "cell_type": "code",
   "execution_count": 58,
   "id": "b9614a27",
   "metadata": {},
   "outputs": [
    {
     "data": {
      "text/plain": [
       "Index(['Adj Close', 'Date', 'High', 'Low', 'Open', 'Volume'], dtype='object')"
      ]
     },
     "execution_count": 58,
     "metadata": {},
     "output_type": "execute_result"
    }
   ],
   "source": [
    "data.columns.difference(['Close'])"
   ]
  },
  {
   "cell_type": "code",
   "execution_count": 62,
   "id": "d46440f8",
   "metadata": {},
   "outputs": [],
   "source": [
    "import numpy as np"
   ]
  },
  {
   "cell_type": "code",
   "execution_count": 84,
   "id": "45c4640e",
   "metadata": {},
   "outputs": [
    {
     "data": {
      "text/plain": [
       "0          0.128348\n",
       "1          0.121652\n",
       "2          0.112723\n",
       "3          0.115513\n",
       "4          0.118862\n",
       "            ...    \n",
       "10726    193.970001\n",
       "10727    192.460007\n",
       "10728    191.330002\n",
       "10729    191.809998\n",
       "10730    190.679993\n",
       "Name: Close, Length: 10731, dtype: float64"
      ]
     },
     "execution_count": 84,
     "metadata": {},
     "output_type": "execute_result"
    }
   ],
   "source": [
    "data['Close']"
   ]
  },
  {
   "cell_type": "code",
   "execution_count": 117,
   "id": "758fe944",
   "metadata": {},
   "outputs": [
    {
     "data": {
      "text/plain": [
       "(10729, 2)"
      ]
     },
     "execution_count": 117,
     "metadata": {},
     "output_type": "execute_result"
    }
   ],
   "source": [
    "new_df = pd.DataFrame({'close' : data['Close']})\n",
    "for i in range(1, n_features+1):\n",
    "    new_df[i] = new_df['close'].shift(i)\n",
    "new_df.dropna(inplace=True)\n",
    "new_df.drop('close', axis=1, inplace=True)\n",
    "new_df = new_df.values\n",
    "array= np.array(new_df)\n",
    "array.shape\n",
    "# array = array.reshape(-1, 1, n_features)\n",
    "# array.shape"
   ]
  },
  {
   "cell_type": "code",
   "execution_count": 112,
   "id": "979713e7",
   "metadata": {},
   "outputs": [
    {
     "data": {
      "text/plain": [
       "pandas.core.frame.DataFrame"
      ]
     },
     "execution_count": 112,
     "metadata": {},
     "output_type": "execute_result"
    }
   ],
   "source": [
    "n_features = 2\n",
    "base.shape[0]\n",
    "new = pd.DataFrame\n",
    "new"
   ]
  },
  {
   "cell_type": "code",
   "execution_count": 113,
   "id": "51a665e4",
   "metadata": {},
   "outputs": [
    {
     "data": {
      "text/plain": [
       "0          [0.1283479928970337, 0.1283479928970337]\n",
       "1        [0.12221000343561172, 0.12165199965238571]\n",
       "2         [0.1132809966802597, 0.11272300034761429]\n",
       "3        [0.11551299691200256, 0.11551299691200256]\n",
       "4        [0.11886200308799744, 0.11886200308799744]\n",
       "                            ...                    \n",
       "10726       [191.6300048828125, 193.97000122070312]\n",
       "10727       [193.77999877929688, 192.4600067138672]\n",
       "10728       [191.57000732421875, 191.3300018310547]\n",
       "10729      [189.83999633789062, 191.80999755859375]\n",
       "10730      [191.41000366210938, 190.67999267578125]\n",
       "Length: 10731, dtype: object"
      ]
     },
     "execution_count": 113,
     "metadata": {},
     "output_type": "execute_result"
    }
   ],
   "source": [
    "data[['Open', 'Close']].apply(np.array, axis=1)"
   ]
  },
  {
   "cell_type": "code",
   "execution_count": null,
   "id": "9458d5d6",
   "metadata": {},
   "outputs": [],
   "source": []
  },
  {
   "cell_type": "code",
   "execution_count": 114,
   "id": "75d1f958",
   "metadata": {},
   "outputs": [],
   "source": [
    "import sklearn"
   ]
  },
  {
   "cell_type": "code",
   "execution_count": 115,
   "id": "e611f0cc",
   "metadata": {},
   "outputs": [],
   "source": [
    "from sklearn.preprocessing import MinMaxScaler"
   ]
  },
  {
   "cell_type": "code",
   "execution_count": 116,
   "id": "ca12e293",
   "metadata": {},
   "outputs": [],
   "source": [
    "scaler = MinMaxScaler(feature_range = (0,1))"
   ]
  },
  {
   "cell_type": "code",
   "execution_count": 123,
   "id": "2884d891",
   "metadata": {},
   "outputs": [
    {
     "data": {
      "text/plain": [
       "array([[3.74095838e-04, 4.08625347e-04],\n",
       "       [3.28051293e-04, 3.74095838e-04],\n",
       "       [3.42438585e-04, 3.28051293e-04],\n",
       "       ...,\n",
       "       [9.92213348e-01, 1.00000000e+00],\n",
       "       [9.86386205e-01, 9.92213348e-01],\n",
       "       [9.88861419e-01, 9.86386205e-01]])"
      ]
     },
     "execution_count": 123,
     "metadata": {},
     "output_type": "execute_result"
    }
   ],
   "source": [
    "scaler.fit_transform(array)"
   ]
  },
  {
   "cell_type": "code",
   "execution_count": 127,
   "id": "4b23ea25",
   "metadata": {},
   "outputs": [],
   "source": [
    "# scaler.fit_transform(array.reshape(-1))"
   ]
  },
  {
   "cell_type": "code",
   "execution_count": 128,
   "id": "e0f20c8a",
   "metadata": {},
   "outputs": [],
   "source": [
    "from sklearn.model_selection import train_test_split"
   ]
  },
  {
   "cell_type": "code",
   "execution_count": 145,
   "id": "107e73c8",
   "metadata": {},
   "outputs": [
    {
     "data": {
      "text/html": [
       "<div>\n",
       "<style scoped>\n",
       "    .dataframe tbody tr th:only-of-type {\n",
       "        vertical-align: middle;\n",
       "    }\n",
       "\n",
       "    .dataframe tbody tr th {\n",
       "        vertical-align: top;\n",
       "    }\n",
       "\n",
       "    .dataframe thead th {\n",
       "        text-align: right;\n",
       "    }\n",
       "</style>\n",
       "<table border=\"1\" class=\"dataframe\">\n",
       "  <thead>\n",
       "    <tr style=\"text-align: right;\">\n",
       "      <th></th>\n",
       "      <th>Date</th>\n",
       "      <th>Open</th>\n",
       "      <th>High</th>\n",
       "      <th>Low</th>\n",
       "      <th>Close</th>\n",
       "      <th>Adj Close</th>\n",
       "      <th>Volume</th>\n",
       "    </tr>\n",
       "  </thead>\n",
       "  <tbody>\n",
       "    <tr>\n",
       "      <th>0</th>\n",
       "      <td>1980-12-12</td>\n",
       "      <td>0.128348</td>\n",
       "      <td>0.128906</td>\n",
       "      <td>0.128348</td>\n",
       "      <td>0.128348</td>\n",
       "      <td>0.099584</td>\n",
       "      <td>469033600</td>\n",
       "    </tr>\n",
       "    <tr>\n",
       "      <th>1</th>\n",
       "      <td>1980-12-15</td>\n",
       "      <td>0.122210</td>\n",
       "      <td>0.122210</td>\n",
       "      <td>0.121652</td>\n",
       "      <td>0.121652</td>\n",
       "      <td>0.094388</td>\n",
       "      <td>175884800</td>\n",
       "    </tr>\n",
       "    <tr>\n",
       "      <th>2</th>\n",
       "      <td>1980-12-16</td>\n",
       "      <td>0.113281</td>\n",
       "      <td>0.113281</td>\n",
       "      <td>0.112723</td>\n",
       "      <td>0.112723</td>\n",
       "      <td>0.087461</td>\n",
       "      <td>105728000</td>\n",
       "    </tr>\n",
       "    <tr>\n",
       "      <th>3</th>\n",
       "      <td>1980-12-17</td>\n",
       "      <td>0.115513</td>\n",
       "      <td>0.116071</td>\n",
       "      <td>0.115513</td>\n",
       "      <td>0.115513</td>\n",
       "      <td>0.089625</td>\n",
       "      <td>86441600</td>\n",
       "    </tr>\n",
       "    <tr>\n",
       "      <th>4</th>\n",
       "      <td>1980-12-18</td>\n",
       "      <td>0.118862</td>\n",
       "      <td>0.119420</td>\n",
       "      <td>0.118862</td>\n",
       "      <td>0.118862</td>\n",
       "      <td>0.092224</td>\n",
       "      <td>73449600</td>\n",
       "    </tr>\n",
       "    <tr>\n",
       "      <th>...</th>\n",
       "      <td>...</td>\n",
       "      <td>...</td>\n",
       "      <td>...</td>\n",
       "      <td>...</td>\n",
       "      <td>...</td>\n",
       "      <td>...</td>\n",
       "      <td>...</td>\n",
       "    </tr>\n",
       "    <tr>\n",
       "      <th>8579</th>\n",
       "      <td>2014-12-17</td>\n",
       "      <td>26.780001</td>\n",
       "      <td>27.459999</td>\n",
       "      <td>26.705000</td>\n",
       "      <td>27.352501</td>\n",
       "      <td>24.549709</td>\n",
       "      <td>213647200</td>\n",
       "    </tr>\n",
       "    <tr>\n",
       "      <th>8580</th>\n",
       "      <td>2014-12-18</td>\n",
       "      <td>27.967501</td>\n",
       "      <td>28.162500</td>\n",
       "      <td>27.665001</td>\n",
       "      <td>28.162500</td>\n",
       "      <td>25.276714</td>\n",
       "      <td>236024800</td>\n",
       "    </tr>\n",
       "    <tr>\n",
       "      <th>8581</th>\n",
       "      <td>2014-12-19</td>\n",
       "      <td>28.065001</td>\n",
       "      <td>28.309999</td>\n",
       "      <td>27.915001</td>\n",
       "      <td>27.945000</td>\n",
       "      <td>25.081505</td>\n",
       "      <td>353719200</td>\n",
       "    </tr>\n",
       "    <tr>\n",
       "      <th>8582</th>\n",
       "      <td>2014-12-22</td>\n",
       "      <td>28.040001</td>\n",
       "      <td>28.372499</td>\n",
       "      <td>27.992500</td>\n",
       "      <td>28.235001</td>\n",
       "      <td>25.341782</td>\n",
       "      <td>180670000</td>\n",
       "    </tr>\n",
       "    <tr>\n",
       "      <th>8583</th>\n",
       "      <td>2014-12-23</td>\n",
       "      <td>28.307501</td>\n",
       "      <td>28.332500</td>\n",
       "      <td>28.115000</td>\n",
       "      <td>28.135000</td>\n",
       "      <td>25.252031</td>\n",
       "      <td>104113600</td>\n",
       "    </tr>\n",
       "  </tbody>\n",
       "</table>\n",
       "<p>8584 rows × 7 columns</p>\n",
       "</div>"
      ],
      "text/plain": [
       "           Date       Open       High        Low      Close  Adj Close  \\\n",
       "0    1980-12-12   0.128348   0.128906   0.128348   0.128348   0.099584   \n",
       "1    1980-12-15   0.122210   0.122210   0.121652   0.121652   0.094388   \n",
       "2    1980-12-16   0.113281   0.113281   0.112723   0.112723   0.087461   \n",
       "3    1980-12-17   0.115513   0.116071   0.115513   0.115513   0.089625   \n",
       "4    1980-12-18   0.118862   0.119420   0.118862   0.118862   0.092224   \n",
       "...         ...        ...        ...        ...        ...        ...   \n",
       "8579 2014-12-17  26.780001  27.459999  26.705000  27.352501  24.549709   \n",
       "8580 2014-12-18  27.967501  28.162500  27.665001  28.162500  25.276714   \n",
       "8581 2014-12-19  28.065001  28.309999  27.915001  27.945000  25.081505   \n",
       "8582 2014-12-22  28.040001  28.372499  27.992500  28.235001  25.341782   \n",
       "8583 2014-12-23  28.307501  28.332500  28.115000  28.135000  25.252031   \n",
       "\n",
       "         Volume  \n",
       "0     469033600  \n",
       "1     175884800  \n",
       "2     105728000  \n",
       "3      86441600  \n",
       "4      73449600  \n",
       "...         ...  \n",
       "8579  213647200  \n",
       "8580  236024800  \n",
       "8581  353719200  \n",
       "8582  180670000  \n",
       "8583  104113600  \n",
       "\n",
       "[8584 rows x 7 columns]"
      ]
     },
     "execution_count": 145,
     "metadata": {},
     "output_type": "execute_result"
    }
   ],
   "source": [
    "x, y = train_test_split(data, shuffle=False, test_size=0.2)\n",
    "x = pd.DataFrame(x, columns=data.columns)\n",
    "x"
   ]
  },
  {
   "cell_type": "code",
   "execution_count": 150,
   "id": "b17e4dbe",
   "metadata": {},
   "outputs": [
    {
     "data": {
      "text/plain": [
       "array([[ 0.12834799,  0.12834799,  0.128906  ,  0.121652  ,  0.12221   ,\n",
       "         0.12221   ],\n",
       "       [ 0.112723  ,  0.113281  ,  0.113281  ,  0.115513  ,  0.115513  ,\n",
       "         0.116071  ],\n",
       "       [ 0.118862  ,  0.118862  ,  0.11942   ,  0.12611599,  0.12611599,\n",
       "         0.126674  ],\n",
       "       ...,\n",
       "       [26.6875    , 26.59250069, 27.54000092, 27.35250092, 26.78000069,\n",
       "        27.45999908],\n",
       "       [28.16250038, 27.96750069, 28.16250038, 27.94499969, 28.06500053,\n",
       "        28.30999947],\n",
       "       [28.23500061, 28.04000092, 28.37249947, 28.13500023, 28.30750084,\n",
       "        28.33250046]])"
      ]
     },
     "execution_count": 150,
     "metadata": {},
     "output_type": "execute_result"
    }
   ],
   "source": [
    "x[['Close', 'Open', 'High']].values.reshape(-1, len(x.columns)-1)"
   ]
  },
  {
   "cell_type": "code",
   "execution_count": 153,
   "id": "fcb4c0eb",
   "metadata": {},
   "outputs": [
    {
     "name": "stdout",
     "output_type": "stream",
     "text": [
      "[*********************100%***********************]  1 of 1 completed\n"
     ]
    }
   ],
   "source": [
    "test = yf.download(\"AAPL\", \"2023-05-12\")"
   ]
  },
  {
   "cell_type": "code",
   "execution_count": 155,
   "id": "4dd89382",
   "metadata": {},
   "outputs": [
    {
     "data": {
      "text/plain": [
       "Index(['Open', 'High', 'Low', 'Close', 'Adj Close', 'Volume'], dtype='object')"
      ]
     },
     "execution_count": 155,
     "metadata": {},
     "output_type": "execute_result"
    }
   ],
   "source": [
    "test.columns"
   ]
  },
  {
   "cell_type": "code",
   "execution_count": 158,
   "id": "b3630c49",
   "metadata": {},
   "outputs": [
    {
     "data": {
      "text/plain": [
       "array([[1.28347993e-01, 1.28347993e-01, 4.69033600e+08],\n",
       "       [1.21652000e-01, 1.22210003e-01, 1.75884800e+08],\n",
       "       [1.12723000e-01, 1.13280997e-01, 1.05728000e+08],\n",
       "       ...,\n",
       "       [1.91330002e+02, 1.91570007e+02, 4.69203000e+07],\n",
       "       [1.91809998e+02, 1.89839996e+02, 4.50943000e+07],\n",
       "       [1.90679993e+02, 1.91410004e+02, 4.67780000e+07]])"
      ]
     },
     "execution_count": 158,
     "metadata": {},
     "output_type": "execute_result"
    }
   ],
   "source": [
    "data[['Close', 'Open', 'Volume']].values"
   ]
  },
  {
   "cell_type": "code",
   "execution_count": null,
   "id": "c18134bf",
   "metadata": {},
   "outputs": [],
   "source": []
  }
 ],
 "metadata": {
  "kernelspec": {
   "display_name": "Python 3 (ipykernel)",
   "language": "python",
   "name": "python3"
  },
  "language_info": {
   "codemirror_mode": {
    "name": "ipython",
    "version": 3
   },
   "file_extension": ".py",
   "mimetype": "text/x-python",
   "name": "python",
   "nbconvert_exporter": "python",
   "pygments_lexer": "ipython3",
   "version": "3.10.10"
  }
 },
 "nbformat": 4,
 "nbformat_minor": 5
}
