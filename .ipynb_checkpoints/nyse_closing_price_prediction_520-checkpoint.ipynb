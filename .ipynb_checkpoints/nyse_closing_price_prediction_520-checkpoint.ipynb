{
 "cells": [
  {
   "cell_type": "code",
   "execution_count": 1,
   "metadata": {},
   "outputs": [],
   "source": [
    "import numpy as np\n",
    "import pandas as pd\n",
    "from matplotlib import pyplot as plt"
   ]
  },
  {
   "cell_type": "code",
   "execution_count": 2,
   "metadata": {},
   "outputs": [],
   "source": [
    "\n",
    "df = pd.read_csv('/Users/vinayak/Desktop/my-projects/StockMarket/dataset/prices-split-adjusted.csv', header = 0)\n"
   ]
  },
  {
   "cell_type": "code",
   "execution_count": 7,
   "metadata": {},
   "outputs": [
    {
     "name": "stdout",
     "output_type": "stream",
     "text": [
      "__init__.py                             predict.py\n",
      "\u001b[1m\u001b[36mdataManager\u001b[m\u001b[m                             \u001b[1m\u001b[36mrequirements\u001b[m\u001b[m\n",
      "\u001b[1m\u001b[36mdataset\u001b[m\u001b[m                                 trainModel.py\n",
      "model.py                                \u001b[1m\u001b[36mtrained_models\u001b[m\u001b[m\n",
      "nyse_closing_price_prediction_520.ipynb\n",
      "/Users/vinayak/Desktop/my-projects/StockMarket\n"
     ]
    }
   ],
   "source": [
    "!cd ./dataset\n",
    "!ls\n",
    "!pwd"
   ]
  },
  {
   "cell_type": "code",
   "execution_count": 4,
   "metadata": {},
   "outputs": [
    {
     "name": "stdout",
     "output_type": "stream",
     "text": [
      "(851264, 7)\n"
     ]
    },
    {
     "data": {
      "text/html": [
       "<div>\n",
       "<style scoped>\n",
       "    .dataframe tbody tr th:only-of-type {\n",
       "        vertical-align: middle;\n",
       "    }\n",
       "\n",
       "    .dataframe tbody tr th {\n",
       "        vertical-align: top;\n",
       "    }\n",
       "\n",
       "    .dataframe thead th {\n",
       "        text-align: right;\n",
       "    }\n",
       "</style>\n",
       "<table border=\"1\" class=\"dataframe\">\n",
       "  <thead>\n",
       "    <tr style=\"text-align: right;\">\n",
       "      <th></th>\n",
       "      <th>date</th>\n",
       "      <th>symbol</th>\n",
       "      <th>open</th>\n",
       "      <th>close</th>\n",
       "      <th>low</th>\n",
       "      <th>high</th>\n",
       "      <th>volume</th>\n",
       "    </tr>\n",
       "  </thead>\n",
       "  <tbody>\n",
       "    <tr>\n",
       "      <th>0</th>\n",
       "      <td>2016-01-05</td>\n",
       "      <td>WLTW</td>\n",
       "      <td>123.430000</td>\n",
       "      <td>125.839996</td>\n",
       "      <td>122.309998</td>\n",
       "      <td>126.250000</td>\n",
       "      <td>2163600.0</td>\n",
       "    </tr>\n",
       "    <tr>\n",
       "      <th>1</th>\n",
       "      <td>2016-01-06</td>\n",
       "      <td>WLTW</td>\n",
       "      <td>125.239998</td>\n",
       "      <td>119.980003</td>\n",
       "      <td>119.940002</td>\n",
       "      <td>125.540001</td>\n",
       "      <td>2386400.0</td>\n",
       "    </tr>\n",
       "    <tr>\n",
       "      <th>2</th>\n",
       "      <td>2016-01-07</td>\n",
       "      <td>WLTW</td>\n",
       "      <td>116.379997</td>\n",
       "      <td>114.949997</td>\n",
       "      <td>114.930000</td>\n",
       "      <td>119.739998</td>\n",
       "      <td>2489500.0</td>\n",
       "    </tr>\n",
       "    <tr>\n",
       "      <th>3</th>\n",
       "      <td>2016-01-08</td>\n",
       "      <td>WLTW</td>\n",
       "      <td>115.480003</td>\n",
       "      <td>116.620003</td>\n",
       "      <td>113.500000</td>\n",
       "      <td>117.440002</td>\n",
       "      <td>2006300.0</td>\n",
       "    </tr>\n",
       "    <tr>\n",
       "      <th>4</th>\n",
       "      <td>2016-01-11</td>\n",
       "      <td>WLTW</td>\n",
       "      <td>117.010002</td>\n",
       "      <td>114.970001</td>\n",
       "      <td>114.089996</td>\n",
       "      <td>117.330002</td>\n",
       "      <td>1408600.0</td>\n",
       "    </tr>\n",
       "  </tbody>\n",
       "</table>\n",
       "</div>"
      ],
      "text/plain": [
       "         date symbol        open       close         low        high  \\\n",
       "0  2016-01-05   WLTW  123.430000  125.839996  122.309998  126.250000   \n",
       "1  2016-01-06   WLTW  125.239998  119.980003  119.940002  125.540001   \n",
       "2  2016-01-07   WLTW  116.379997  114.949997  114.930000  119.739998   \n",
       "3  2016-01-08   WLTW  115.480003  116.620003  113.500000  117.440002   \n",
       "4  2016-01-11   WLTW  117.010002  114.970001  114.089996  117.330002   \n",
       "\n",
       "      volume  \n",
       "0  2163600.0  \n",
       "1  2386400.0  \n",
       "2  2489500.0  \n",
       "3  2006300.0  \n",
       "4  1408600.0  "
      ]
     },
     "execution_count": 4,
     "metadata": {},
     "output_type": "execute_result"
    }
   ],
   "source": [
    "print(df.shape)\n",
    "df.head()"
   ]
  },
  {
   "cell_type": "code",
   "execution_count": 5,
   "metadata": {},
   "outputs": [
    {
     "data": {
      "text/plain": [
       "array(['WLTW', 'A', 'AAL', 'AAP', 'AAPL', 'ABC', 'ABT', 'ACN', 'ADBE',\n",
       "       'ADI', 'ADM', 'ADP', 'ADS', 'ADSK', 'AEE', 'AEP', 'AES', 'AET',\n",
       "       'AFL', 'AGN', 'AIG', 'AIZ', 'AJG', 'AKAM', 'ALB', 'ALK', 'ALL',\n",
       "       'ALXN', 'AMAT', 'AME', 'AMG', 'AMGN', 'AMP', 'AMT', 'AMZN', 'AN',\n",
       "       'ANTM', 'AON', 'APA', 'APC', 'APD', 'APH', 'ARNC', 'ATVI', 'AVB',\n",
       "       'AVGO', 'AVY', 'AWK', 'AXP', 'AYI', 'AZO', 'BA', 'BAC', 'BAX',\n",
       "       'BBBY', 'BBT', 'BBY', 'BCR', 'BDX', 'BEN', 'BHI', 'BIIB', 'BK',\n",
       "       'BLK', 'BLL', 'BMY', 'BSX', 'BWA', 'BXP', 'C', 'CA', 'CAG', 'CAH',\n",
       "       'CAT', 'CB', 'CBG', 'CBS', 'CCI', 'CCL', 'CELG', 'CERN', 'CF',\n",
       "       'CHD', 'CHK', 'CHRW', 'CI', 'CINF', 'CL', 'CLX', 'CMA', 'CMCSA',\n",
       "       'CME', 'CMG', 'CMI', 'CMS', 'CNC', 'CNP', 'COF', 'COG', 'COH',\n",
       "       'COL', 'COO', 'COP', 'COST', 'CPB', 'CRM', 'CSCO', 'CSX', 'CTAS',\n",
       "       'CTL', 'CTSH', 'CTXS', 'CVS', 'CVX', 'CXO', 'D', 'DAL', 'DD', 'DE',\n",
       "       'DFS', 'DG', 'DGX', 'DHI', 'DHR', 'DIS', 'DISCA', 'DISCK', 'DLR',\n",
       "       'DLTR', 'DNB', 'DOV', 'DOW', 'DPS', 'DRI', 'DTE', 'DUK', 'DVA',\n",
       "       'DVN', 'EA', 'EBAY', 'ECL', 'ED', 'EFX', 'EIX', 'EL', 'EMN', 'EMR',\n",
       "       'ENDP', 'EOG', 'EQIX', 'EQR', 'EQT', 'ES', 'ESRX', 'ESS', 'ETFC',\n",
       "       'ETN', 'ETR', 'EW', 'EXC', 'EXPD', 'EXPE', 'EXR', 'F', 'FAST',\n",
       "       'FCX', 'FDX', 'FE', 'FFIV', 'FIS', 'FISV', 'FITB', 'FL', 'FLIR',\n",
       "       'FLR', 'FLS', 'FMC', 'FOX', 'FOXA', 'FRT', 'FSLR', 'FTI', 'FTR',\n",
       "       'GD', 'GE', 'GGP', 'GILD', 'GIS', 'GLW', 'GOOG', 'GOOGL', 'GPC',\n",
       "       'GPN', 'GPS', 'GRMN', 'GS', 'GT', 'GWW', 'HAL', 'HAR', 'HAS',\n",
       "       'HBAN', 'HBI', 'HCN', 'HCP', 'HD', 'HES', 'HIG', 'HOG', 'HOLX',\n",
       "       'HON', 'HP', 'HPQ', 'HRB', 'HRL', 'HRS', 'HSIC', 'HST', 'HSY',\n",
       "       'HUM', 'IBM', 'ICE', 'IDXX', 'IFF', 'ILMN', 'INTC', 'INTU', 'IP',\n",
       "       'IPG', 'IR', 'IRM', 'ISRG', 'ITW', 'IVZ', 'JBHT', 'JCI', 'JEC',\n",
       "       'JNJ', 'JNPR', 'JPM', 'JWN', 'K', 'KEY', 'KIM', 'KLAC', 'KMB',\n",
       "       'KMX', 'KO', 'KR', 'KSS', 'KSU', 'L', 'LB', 'LEG', 'LEN', 'LH',\n",
       "       'LKQ', 'LLL', 'LLTC', 'LLY', 'LMT', 'LNC', 'LNT', 'LOW', 'LRCX',\n",
       "       'LUK', 'LUV', 'LVLT', 'M', 'MA', 'MAA', 'MAC', 'MAR', 'MAS', 'MAT',\n",
       "       'MCD', 'MCHP', 'MCK', 'MCO', 'MDLZ', 'MDT', 'MET', 'MHK', 'MJN',\n",
       "       'MKC', 'MLM', 'MMC', 'MMM', 'MNST', 'MO', 'MON', 'MOS', 'MRK',\n",
       "       'MRO', 'MSFT', 'MSI', 'MTB', 'MTD', 'MU', 'MUR', 'MYL', 'NBL',\n",
       "       'NDAQ', 'NEE', 'NEM', 'NFLX', 'NFX', 'NI', 'NKE', 'NOC', 'NOV',\n",
       "       'NRG', 'NSC', 'NTAP', 'NTRS', 'NUE', 'NVDA', 'NWL', 'O', 'OKE',\n",
       "       'OMC', 'ORCL', 'ORLY', 'OXY', 'PAYX', 'PBCT', 'PBI', 'PCAR', 'PCG',\n",
       "       'PCLN', 'PDCO', 'PEG', 'PEP', 'PFE', 'PFG', 'PG', 'PGR', 'PH',\n",
       "       'PHM', 'PKI', 'PLD', 'PM', 'PNC', 'PNR', 'PNW', 'PPG', 'PPL',\n",
       "       'PRGO', 'PRU', 'PSA', 'PVH', 'PWR', 'PX', 'PXD', 'QCOM', 'R',\n",
       "       'RAI', 'RCL', 'REGN', 'RF', 'RHI', 'RHT', 'RIG', 'RL', 'ROK',\n",
       "       'ROP', 'ROST', 'RRC', 'RSG', 'RTN', 'SBUX', 'SCG', 'SCHW', 'SE',\n",
       "       'SEE', 'SHW', 'SIG', 'SJM', 'SLB', 'SLG', 'SNA', 'SNI', 'SO',\n",
       "       'SPG', 'SPGI', 'SPLS', 'SRCL', 'SRE', 'STI', 'STT', 'STX', 'STZ',\n",
       "       'SWK', 'SWKS', 'SWN', 'SYK', 'SYMC', 'SYY', 'T', 'TAP', 'TDC',\n",
       "       'TEL', 'TGNA', 'TGT', 'TIF', 'TJX', 'TMK', 'TMO', 'TROW', 'TRV',\n",
       "       'TSCO', 'TSN', 'TSO', 'TSS', 'TWX', 'TXN', 'TXT', 'UAA', 'UAL',\n",
       "       'UDR', 'UHS', 'ULTA', 'UNH', 'UNM', 'UNP', 'UPS', 'URBN', 'URI',\n",
       "       'USB', 'UTX', 'V', 'VAR', 'VFC', 'VIAB', 'VLO', 'VMC', 'VNO',\n",
       "       'VRSK', 'VRSN', 'VRTX', 'VTR', 'VZ', 'WAT', 'WBA', 'WDC', 'WEC',\n",
       "       'WFC', 'WFM', 'WHR', 'WM', 'WMB', 'WMT', 'WU', 'WY', 'WYN', 'WYNN',\n",
       "       'XEC', 'XEL', 'XL', 'XLNX', 'XOM', 'XRAY', 'XRX', 'YHOO', 'YUM',\n",
       "       'ZBH', 'ZION', 'AIV', 'CHTR', 'LYB', 'GM', 'ABBV', 'DLPH', 'FB',\n",
       "       'FBHS', 'HCA', 'KMI', 'KORS', 'MPC', 'NLSN', 'PSX', 'TDG', 'TRIP',\n",
       "       'XYL', 'ZTS', 'COTY', 'MNK', 'NWS', 'NWSA', 'EVHC', 'ALLE', 'CFG',\n",
       "       'NAVI', 'QRVO', 'SYF', 'WRK', 'KHC', 'PYPL', 'HPE', 'CSRA', 'FTV'],\n",
       "      dtype=object)"
      ]
     },
     "execution_count": 5,
     "metadata": {},
     "output_type": "execute_result"
    }
   ],
   "source": [
    "df['symbol'].unique()"
   ]
  },
  {
   "cell_type": "code",
   "execution_count": 6,
   "metadata": {},
   "outputs": [
    {
     "name": "stdout",
     "output_type": "stream",
     "text": [
      "(1762, 7)\n"
     ]
    },
    {
     "data": {
      "text/html": [
       "<div>\n",
       "<style scoped>\n",
       "    .dataframe tbody tr th:only-of-type {\n",
       "        vertical-align: middle;\n",
       "    }\n",
       "\n",
       "    .dataframe tbody tr th {\n",
       "        vertical-align: top;\n",
       "    }\n",
       "\n",
       "    .dataframe thead th {\n",
       "        text-align: right;\n",
       "    }\n",
       "</style>\n",
       "<table border=\"1\" class=\"dataframe\">\n",
       "  <thead>\n",
       "    <tr style=\"text-align: right;\">\n",
       "      <th></th>\n",
       "      <th>date</th>\n",
       "      <th>symbol</th>\n",
       "      <th>open</th>\n",
       "      <th>close</th>\n",
       "      <th>low</th>\n",
       "      <th>high</th>\n",
       "      <th>volume</th>\n",
       "    </tr>\n",
       "  </thead>\n",
       "  <tbody>\n",
       "    <tr>\n",
       "      <th>713</th>\n",
       "      <td>2010-01-04</td>\n",
       "      <td>YHOO</td>\n",
       "      <td>16.940001</td>\n",
       "      <td>17.100000</td>\n",
       "      <td>16.879999</td>\n",
       "      <td>17.200001</td>\n",
       "      <td>16587400.0</td>\n",
       "    </tr>\n",
       "    <tr>\n",
       "      <th>1181</th>\n",
       "      <td>2010-01-05</td>\n",
       "      <td>YHOO</td>\n",
       "      <td>17.219999</td>\n",
       "      <td>17.230000</td>\n",
       "      <td>17.000000</td>\n",
       "      <td>17.230000</td>\n",
       "      <td>11718100.0</td>\n",
       "    </tr>\n",
       "    <tr>\n",
       "      <th>1649</th>\n",
       "      <td>2010-01-06</td>\n",
       "      <td>YHOO</td>\n",
       "      <td>17.170000</td>\n",
       "      <td>17.170000</td>\n",
       "      <td>17.070000</td>\n",
       "      <td>17.299999</td>\n",
       "      <td>16422000.0</td>\n",
       "    </tr>\n",
       "    <tr>\n",
       "      <th>2117</th>\n",
       "      <td>2010-01-07</td>\n",
       "      <td>YHOO</td>\n",
       "      <td>16.809999</td>\n",
       "      <td>16.700001</td>\n",
       "      <td>16.570000</td>\n",
       "      <td>16.900000</td>\n",
       "      <td>31816300.0</td>\n",
       "    </tr>\n",
       "    <tr>\n",
       "      <th>2585</th>\n",
       "      <td>2010-01-08</td>\n",
       "      <td>YHOO</td>\n",
       "      <td>16.680000</td>\n",
       "      <td>16.700001</td>\n",
       "      <td>16.620001</td>\n",
       "      <td>16.760000</td>\n",
       "      <td>15470000.0</td>\n",
       "    </tr>\n",
       "  </tbody>\n",
       "</table>\n",
       "</div>"
      ],
      "text/plain": [
       "            date symbol       open      close        low       high  \\\n",
       "713   2010-01-04   YHOO  16.940001  17.100000  16.879999  17.200001   \n",
       "1181  2010-01-05   YHOO  17.219999  17.230000  17.000000  17.230000   \n",
       "1649  2010-01-06   YHOO  17.170000  17.170000  17.070000  17.299999   \n",
       "2117  2010-01-07   YHOO  16.809999  16.700001  16.570000  16.900000   \n",
       "2585  2010-01-08   YHOO  16.680000  16.700001  16.620001  16.760000   \n",
       "\n",
       "          volume  \n",
       "713   16587400.0  \n",
       "1181  11718100.0  \n",
       "1649  16422000.0  \n",
       "2117  31816300.0  \n",
       "2585  15470000.0  "
      ]
     },
     "execution_count": 6,
     "metadata": {},
     "output_type": "execute_result"
    }
   ],
   "source": [
    "df_yahoo = df[df.symbol == 'YHOO']\n",
    "print(df_yahoo.shape)\n",
    "df_yahoo.head()"
   ]
  },
  {
   "cell_type": "code",
   "execution_count": 7,
   "metadata": {},
   "outputs": [
    {
     "data": {
      "text/html": [
       "<div>\n",
       "<style scoped>\n",
       "    .dataframe tbody tr th:only-of-type {\n",
       "        vertical-align: middle;\n",
       "    }\n",
       "\n",
       "    .dataframe tbody tr th {\n",
       "        vertical-align: top;\n",
       "    }\n",
       "\n",
       "    .dataframe thead th {\n",
       "        text-align: right;\n",
       "    }\n",
       "</style>\n",
       "<table border=\"1\" class=\"dataframe\">\n",
       "  <thead>\n",
       "    <tr style=\"text-align: right;\">\n",
       "      <th></th>\n",
       "      <th>open</th>\n",
       "      <th>close</th>\n",
       "      <th>low</th>\n",
       "      <th>high</th>\n",
       "      <th>volume</th>\n",
       "    </tr>\n",
       "  </thead>\n",
       "  <tbody>\n",
       "    <tr>\n",
       "      <th>count</th>\n",
       "      <td>1762.000000</td>\n",
       "      <td>1762.000000</td>\n",
       "      <td>1762.000000</td>\n",
       "      <td>1762.000000</td>\n",
       "      <td>1.762000e+03</td>\n",
       "    </tr>\n",
       "    <tr>\n",
       "      <th>mean</th>\n",
       "      <td>27.297917</td>\n",
       "      <td>27.291992</td>\n",
       "      <td>26.975602</td>\n",
       "      <td>27.609977</td>\n",
       "      <td>1.996907e+07</td>\n",
       "    </tr>\n",
       "    <tr>\n",
       "      <th>std</th>\n",
       "      <td>11.412612</td>\n",
       "      <td>11.406846</td>\n",
       "      <td>11.289736</td>\n",
       "      <td>11.526101</td>\n",
       "      <td>1.376851e+07</td>\n",
       "    </tr>\n",
       "    <tr>\n",
       "      <th>min</th>\n",
       "      <td>11.300000</td>\n",
       "      <td>11.090000</td>\n",
       "      <td>11.090000</td>\n",
       "      <td>11.800000</td>\n",
       "      <td>2.586900e+06</td>\n",
       "    </tr>\n",
       "    <tr>\n",
       "      <th>25%</th>\n",
       "      <td>15.950000</td>\n",
       "      <td>15.920000</td>\n",
       "      <td>15.770000</td>\n",
       "      <td>16.110001</td>\n",
       "      <td>1.235152e+07</td>\n",
       "    </tr>\n",
       "    <tr>\n",
       "      <th>50%</th>\n",
       "      <td>26.770001</td>\n",
       "      <td>26.750000</td>\n",
       "      <td>26.495000</td>\n",
       "      <td>27.105001</td>\n",
       "      <td>1.639070e+07</td>\n",
       "    </tr>\n",
       "    <tr>\n",
       "      <th>75%</th>\n",
       "      <td>37.335000</td>\n",
       "      <td>37.377501</td>\n",
       "      <td>36.897501</td>\n",
       "      <td>37.689999</td>\n",
       "      <td>2.325988e+07</td>\n",
       "    </tr>\n",
       "    <tr>\n",
       "      <th>max</th>\n",
       "      <td>52.279999</td>\n",
       "      <td>52.369999</td>\n",
       "      <td>51.639999</td>\n",
       "      <td>52.619999</td>\n",
       "      <td>2.338721e+08</td>\n",
       "    </tr>\n",
       "  </tbody>\n",
       "</table>\n",
       "</div>"
      ],
      "text/plain": [
       "              open        close          low         high        volume\n",
       "count  1762.000000  1762.000000  1762.000000  1762.000000  1.762000e+03\n",
       "mean     27.297917    27.291992    26.975602    27.609977  1.996907e+07\n",
       "std      11.412612    11.406846    11.289736    11.526101  1.376851e+07\n",
       "min      11.300000    11.090000    11.090000    11.800000  2.586900e+06\n",
       "25%      15.950000    15.920000    15.770000    16.110001  1.235152e+07\n",
       "50%      26.770001    26.750000    26.495000    27.105001  1.639070e+07\n",
       "75%      37.335000    37.377501    36.897501    37.689999  2.325988e+07\n",
       "max      52.279999    52.369999    51.639999    52.619999  2.338721e+08"
      ]
     },
     "execution_count": 7,
     "metadata": {},
     "output_type": "execute_result"
    }
   ],
   "source": [
    "df_yahoo.describe()"
   ]
  },
  {
   "cell_type": "code",
   "execution_count": 8,
   "metadata": {},
   "outputs": [
    {
     "data": {
      "text/plain": [
       "date      0\n",
       "symbol    0\n",
       "open      0\n",
       "close     0\n",
       "low       0\n",
       "high      0\n",
       "volume    0\n",
       "dtype: int64"
      ]
     },
     "execution_count": 8,
     "metadata": {},
     "output_type": "execute_result"
    }
   ],
   "source": [
    "df_yahoo.isnull().sum()"
   ]
  },
  {
   "cell_type": "code",
   "execution_count": 9,
   "metadata": {},
   "outputs": [
    {
     "data": {
      "text/html": [
       "<div>\n",
       "<style scoped>\n",
       "    .dataframe tbody tr th:only-of-type {\n",
       "        vertical-align: middle;\n",
       "    }\n",
       "\n",
       "    .dataframe tbody tr th {\n",
       "        vertical-align: top;\n",
       "    }\n",
       "\n",
       "    .dataframe thead th {\n",
       "        text-align: right;\n",
       "    }\n",
       "</style>\n",
       "<table border=\"1\" class=\"dataframe\">\n",
       "  <thead>\n",
       "    <tr style=\"text-align: right;\">\n",
       "      <th></th>\n",
       "      <th>symbol</th>\n",
       "      <th>open</th>\n",
       "      <th>close</th>\n",
       "      <th>low</th>\n",
       "      <th>high</th>\n",
       "      <th>volume</th>\n",
       "    </tr>\n",
       "    <tr>\n",
       "      <th>date</th>\n",
       "      <th></th>\n",
       "      <th></th>\n",
       "      <th></th>\n",
       "      <th></th>\n",
       "      <th></th>\n",
       "      <th></th>\n",
       "    </tr>\n",
       "  </thead>\n",
       "  <tbody>\n",
       "    <tr>\n",
       "      <th>2010-01-04</th>\n",
       "      <td>YHOO</td>\n",
       "      <td>16.940001</td>\n",
       "      <td>17.100000</td>\n",
       "      <td>16.879999</td>\n",
       "      <td>17.200001</td>\n",
       "      <td>16587400.0</td>\n",
       "    </tr>\n",
       "    <tr>\n",
       "      <th>2010-01-05</th>\n",
       "      <td>YHOO</td>\n",
       "      <td>17.219999</td>\n",
       "      <td>17.230000</td>\n",
       "      <td>17.000000</td>\n",
       "      <td>17.230000</td>\n",
       "      <td>11718100.0</td>\n",
       "    </tr>\n",
       "    <tr>\n",
       "      <th>2010-01-06</th>\n",
       "      <td>YHOO</td>\n",
       "      <td>17.170000</td>\n",
       "      <td>17.170000</td>\n",
       "      <td>17.070000</td>\n",
       "      <td>17.299999</td>\n",
       "      <td>16422000.0</td>\n",
       "    </tr>\n",
       "    <tr>\n",
       "      <th>2010-01-07</th>\n",
       "      <td>YHOO</td>\n",
       "      <td>16.809999</td>\n",
       "      <td>16.700001</td>\n",
       "      <td>16.570000</td>\n",
       "      <td>16.900000</td>\n",
       "      <td>31816300.0</td>\n",
       "    </tr>\n",
       "    <tr>\n",
       "      <th>2010-01-08</th>\n",
       "      <td>YHOO</td>\n",
       "      <td>16.680000</td>\n",
       "      <td>16.700001</td>\n",
       "      <td>16.620001</td>\n",
       "      <td>16.760000</td>\n",
       "      <td>15470000.0</td>\n",
       "    </tr>\n",
       "  </tbody>\n",
       "</table>\n",
       "</div>"
      ],
      "text/plain": [
       "           symbol       open      close        low       high      volume\n",
       "date                                                                     \n",
       "2010-01-04   YHOO  16.940001  17.100000  16.879999  17.200001  16587400.0\n",
       "2010-01-05   YHOO  17.219999  17.230000  17.000000  17.230000  11718100.0\n",
       "2010-01-06   YHOO  17.170000  17.170000  17.070000  17.299999  16422000.0\n",
       "2010-01-07   YHOO  16.809999  16.700001  16.570000  16.900000  31816300.0\n",
       "2010-01-08   YHOO  16.680000  16.700001  16.620001  16.760000  15470000.0"
      ]
     },
     "execution_count": 9,
     "metadata": {},
     "output_type": "execute_result"
    }
   ],
   "source": [
    "df['date'] = pd.to_datetime(df['date'])\n",
    "df_yahoo = df[df.symbol == 'YHOO']\n",
    "df_yahoo = df_yahoo.set_index('date')\n",
    "df_yahoo.head()"
   ]
  },
  {
   "cell_type": "code",
   "execution_count": 10,
   "metadata": {},
   "outputs": [
    {
     "name": "stdout",
     "output_type": "stream",
     "text": [
      "before : (1762, 6)\n",
      "after : (1825, 6)\n"
     ]
    }
   ],
   "source": [
    "# frequency to 'd' \n",
    "# defining entries for all the business days from start to end\n",
    "# if data wasn't already present, it'll just add nan\n",
    "# we will later want to eliminate the entries which were not\n",
    "# national holidays\n",
    "before_asfreq = df_yahoo.shape\n",
    "print(\"before :\", before_asfreq)\n",
    "yahoo_data = df_yahoo.asfreq('b') # storing in a new variable\n",
    "after_asfreq = yahoo_data.shape\n",
    "print(\"after :\", after_asfreq)"
   ]
  },
  {
   "cell_type": "code",
   "execution_count": 11,
   "metadata": {},
   "outputs": [
    {
     "data": {
      "text/plain": [
       "symbol    63\n",
       "open      63\n",
       "close     63\n",
       "low       63\n",
       "high      63\n",
       "volume    63\n",
       "dtype: int64"
      ]
     },
     "execution_count": 11,
     "metadata": {},
     "output_type": "execute_result"
    }
   ],
   "source": [
    "yahoo_data.isnull().sum()"
   ]
  },
  {
   "cell_type": "code",
   "execution_count": null,
   "metadata": {},
   "outputs": [],
   "source": [
    "null_data = yahoo_data[yahoo_data.isnull().any(axis=1)]\n",
    "null_data.head()\n",
    "null_dates = null_data.index.tolist()"
   ]
  },
  {
   "cell_type": "code",
   "execution_count": 13,
   "metadata": {},
   "outputs": [
    {
     "name": "stdout",
     "output_type": "stream",
     "text": [
      "[Timestamp('2012-10-29 00:00:00'), Timestamp('2012-10-30 00:00:00')]\n"
     ]
    }
   ],
   "source": [
    "import calendar\n",
    "import datetime\n",
    "\n",
    "holidays = []\n",
    "for date in null_dates:\n",
    "    week, day, month, year = date.weekday(), date.day, date.month, date.year\n",
    "    week_day = calendar.day_name[week]\n",
    "\n",
    "    if month==1:\n",
    "        if day==1:\n",
    "            # New year day\n",
    "            holidays.append(date)\n",
    "        elif day==2 and week_day=='Monday':\n",
    "            # Observed New Year Day\n",
    "            holidays.append(date)\n",
    "        elif day>=15 and day<=21 and week_day=='Monday':\n",
    "            # Martin Luther King, Jr. Day\n",
    "            holidays.append(date)\n",
    "\n",
    "    elif month==2:\n",
    "        # Washington's Birthday\n",
    "        if day>=15 and day<=21 and week_day=='Monday':\n",
    "            holidays.append(date)\n",
    "\n",
    "    elif month==5:\n",
    "        # Memorial day\n",
    "        if day>=25 and day<=31 and week_day=='Monday':\n",
    "            holidays.append(date)\n",
    "\n",
    "    elif month==7:\n",
    "        # Independence day\n",
    "        if day==4:\n",
    "            holidays.append(date)\n",
    "        # Observed Independence  Day\n",
    "        elif day==5 and week_day=='Monday':\n",
    "            holidays.append(date)\n",
    "        elif day==3 and week_day=='Friday':\n",
    "            holidays.append(date)\n",
    "\n",
    "    elif month == 9:\n",
    "        # Labour day\n",
    "        if day>=1 and day<=7 and week_day=='Monday':\n",
    "            holidays.append(date)\n",
    "\n",
    "    elif month==11:\n",
    "        # Thanksgiving Day\n",
    "        if week_day=='Thursday' and day>=22 and day<=28:\n",
    "            holidays.append(date)\n",
    "\n",
    "    elif month==12:\n",
    "        # Christmas Day\n",
    "        if day==25:\n",
    "            holidays.append(date)\n",
    "        # Observed Christmas Day\n",
    "        elif day==24 and week_day=='Friday':\n",
    "            holidays.append(date)\n",
    "        elif day==26 and week_day=='Monday':\n",
    "            holidays.append(date)\n",
    "\n",
    "#  we could not just add the holidays in the array directly\n",
    "#  doing so would have thrown error while dropping entries from\n",
    "#  the dataframe. if holiday was a weekend and in the array, invalid entry\n",
    "#  will not get deleted from the df but an error will occur.\n",
    "good_fridays = [ \n",
    "    datetime.date(2010,4,2), \n",
    "    datetime.date(2011,4,22), \n",
    "    datetime.date(2012,4,6), \n",
    "    datetime.date(2013,3,29), \n",
    "    datetime.date(2014,4,18), \n",
    "    datetime.date(2015,4,3), \n",
    "    datetime.date(2016,3,25) \n",
    "]\n",
    "holidays = holidays + [pd.to_datetime(date) for date in good_fridays]\n",
    "\n",
    "non_holidays = [x for x in null_dates if x not in holidays]\n",
    "print(non_holidays)"
   ]
  },
  {
   "cell_type": "code",
   "execution_count": 14,
   "metadata": {},
   "outputs": [
    {
     "data": {
      "text/plain": [
       "(1764, 6)"
      ]
     },
     "execution_count": 14,
     "metadata": {},
     "output_type": "execute_result"
    }
   ],
   "source": [
    "modified_df = yahoo_data.drop(holidays)\n",
    "updated_shape = modified_df.shape\n",
    "updated_shape"
   ]
  },
  {
   "cell_type": "code",
   "execution_count": 15,
   "metadata": {},
   "outputs": [
    {
     "data": {
      "text/plain": [
       "symbol    0\n",
       "open      0\n",
       "close     0\n",
       "low       0\n",
       "high      0\n",
       "volume    0\n",
       "dtype: int64"
      ]
     },
     "execution_count": 15,
     "metadata": {},
     "output_type": "execute_result"
    }
   ],
   "source": [
    "modified_df = modified_df.bfill(axis='rows')\n",
    "modified_df.isnull().sum()"
   ]
  },
  {
   "cell_type": "code",
   "execution_count": 16,
   "metadata": {},
   "outputs": [
    {
     "data": {
      "image/png": "[encoded data removed]",
      "text/plain": [
       "<Figure size 432x288 with 1 Axes>"
      ]
     },
     "metadata": {
      "needs_background": "light"
     },
     "output_type": "display_data"
    }
   ],
   "source": [
    "def plotter(ticker):\n",
    "    global closing_stock\n",
    "    plt.subplot(111)\n",
    "#     company_close = modified_df[modified_df['symbol']==ticker]\n",
    "#     company_close = company_close.close.values.astype('float32')\n",
    "#     company_close = company_close.reshape(-1, 1)\n",
    "    company_close = np.array(modified_df['close'].values.astype('float32')).reshape(-1, 1)\n",
    "    closing_stock = company_close\n",
    "    plt.xlabel('Time')\n",
    "    plt.ylabel(ticker + \" close stock prices\")\n",
    "    plt.title('prices Vs Time')\n",
    "    plt.grid(True)\n",
    "    plt.plot(modified_df.index, closing_stock, 'b')\n",
    "    plt.show()\n",
    "    \n",
    "plotter(\"YHOO\")"
   ]
  },
  {
   "cell_type": "code",
   "execution_count": 17,
   "metadata": {},
   "outputs": [],
   "source": [
    "n_train = int(len(closing_stock) * 0.80)\n",
    "n_remaining = len(closing_stock) - n_train\n",
    "\n",
    "n_val = int(n_remaining * 0.50)\n",
    "n_test = n_remaining - n_val"
   ]
  },
  {
   "cell_type": "code",
   "execution_count": 18,
   "metadata": {},
   "outputs": [
    {
     "name": "stdout",
     "output_type": "stream",
     "text": [
      "True\n",
      "True\n",
      "True\n",
      "True\n"
     ]
    }
   ],
   "source": [
    "train_data = closing_stock[0 : n_train]\n",
    "val_data = closing_stock[n_train : n_train + n_val]\n",
    "test_data = closing_stock[-n_test : ]\n",
    "print(n_train + n_val + n_test == len(closing_stock))\n",
    "print(len(train_data) == n_train)\n",
    "print(len(val_data) == n_val)\n",
    "print(len(test_data) == n_test)"
   ]
  },
  {
   "cell_type": "code",
   "execution_count": 19,
   "metadata": {},
   "outputs": [],
   "source": [
    "\n",
    "from sklearn.preprocessing import MinMaxScaler\n"
   ]
  },
  {
   "cell_type": "code",
   "execution_count": 20,
   "metadata": {},
   "outputs": [],
   "source": [
    "\n",
    "scaler = MinMaxScaler(feature_range=(0,1))\n"
   ]
  },
  {
   "cell_type": "code",
   "execution_count": 21,
   "metadata": {},
   "outputs": [],
   "source": [
    "train = scaler.fit_transform(train_data) # minmaxscaled train data\n",
    "test = scaler.transform(test_data) # minmax of test data\n",
    "val = scaler.transform(val_data) # minmax of val data"
   ]
  },
  {
   "cell_type": "code",
   "execution_count": 22,
   "metadata": {},
   "outputs": [
    {
     "data": {
      "text/plain": [
       "0.99999994"
      ]
     },
     "execution_count": 22,
     "metadata": {},
     "output_type": "execute_result"
    }
   ],
   "source": [
    "train.max()"
   ]
  },
  {
   "cell_type": "code",
   "execution_count": 23,
   "metadata": {},
   "outputs": [],
   "source": [
    "def create_dataset(data , n_features):\n",
    "    dataX, dataY = [], []\n",
    "    for i in range(len(data)-n_features-1):\n",
    "        a = data[i:(i+n_features), 0]\n",
    "        dataX.append(a)\n",
    "        dataY.append(data[i + n_features, 0])\n",
    "    return np.array(dataX), np.array(dataY)"
   ]
  },
  {
   "cell_type": "code",
   "execution_count": 24,
   "metadata": {},
   "outputs": [],
   "source": [
    "n_features = 2"
   ]
  },
  {
   "cell_type": "code",
   "execution_count": 25,
   "metadata": {},
   "outputs": [],
   "source": [
    "trainX, trainY = create_dataset(train, n_features)\n",
    "valX, valY = create_dataset(val, n_features)\n",
    "testX, testY = create_dataset(test, n_features)"
   ]
  },
  {
   "cell_type": "code",
   "execution_count": 26,
   "metadata": {},
   "outputs": [],
   "source": [
    "trainX = trainX.reshape(trainX.shape[0], 1, trainX.shape[1])\n",
    "valX = valX.reshape(valX.shape[0], 1, valX.shape[1])\n",
    "testX = testX.reshape(testX.shape[0], 1, testX.shape[1])"
   ]
  },
  {
   "cell_type": "code",
   "execution_count": 27,
   "metadata": {},
   "outputs": [],
   "source": [
    "import tensorflow as tf\n",
    "from tensorflow import keras\n",
    "from tensorflow.keras import layers\n",
    "from tensorflow.keras.optimizers import Adam"
   ]
  },
  {
   "cell_type": "code",
   "execution_count": 28,
   "metadata": {},
   "outputs": [],
   "source": [
    "tf.random.set_seed(42)"
   ]
  },
  {
   "cell_type": "code",
   "execution_count": 29,
   "metadata": {},
   "outputs": [],
   "source": [
    "model = keras.Sequential()"
   ]
  },
  {
   "cell_type": "code",
   "execution_count": 30,
   "metadata": {},
   "outputs": [],
   "source": [
    "#GRU LAYERS\n",
    "\n",
    "#First GRU layer\n",
    "model.add(layers.GRU(units=100, return_sequences=True, input_shape=(1, n_features), activation='tanh'))\n",
    "# model.add(layers.Dropout(0.2))\n",
    "\n",
    "#Second GRU layer\n",
    "model.add(layers.GRU(units=150, return_sequences=True, input_shape=(1, n_features)))\n",
    "# model.add(layers.Dropout(0.2))\n",
    "\n",
    "#Third GRU layer\n",
    "model.add(layers.GRU(units=100, activation='tanh'))\n",
    "# model.add(layers.Dropout(0.2))\n",
    "\n",
    "#Output layer\n",
    "model.add(layers.Dense(units=1, kernel_initializer='he_uniform', activation='linear'))"
   ]
  },
  {
   "cell_type": "code",
   "execution_count": 31,
   "metadata": {},
   "outputs": [],
   "source": [
    "model.compile(loss='mean_squared_error', optimizer=Adam(learning_rate = 0.001), metrics = ['mean_squared_error'])\n"
   ]
  },
  {
   "cell_type": "code",
   "execution_count": 32,
   "metadata": {},
   "outputs": [
    {
     "name": "stdout",
     "output_type": "stream",
     "text": [
      "Model: \"sequential\"\n",
      "_________________________________________________________________\n",
      "Layer (type)                 Output Shape              Param #   \n",
      "=================================================================\n",
      "gru (GRU)                    (None, 1, 100)            31200     \n",
      "_________________________________________________________________\n",
      "dropout (Dropout)            (None, 1, 100)            0         \n",
      "_________________________________________________________________\n",
      "gru_1 (GRU)                  (None, 1, 150)            113400    \n",
      "_________________________________________________________________\n",
      "dropout_1 (Dropout)          (None, 1, 150)            0         \n",
      "_________________________________________________________________\n",
      "gru_2 (GRU)                  (None, 100)               75600     \n",
      "_________________________________________________________________\n",
      "dropout_2 (Dropout)          (None, 100)               0         \n",
      "_________________________________________________________________\n",
      "dense (Dense)                (None, 1)                 101       \n",
      "=================================================================\n",
      "Total params: 220,301\n",
      "Trainable params: 220,301\n",
      "Non-trainable params: 0\n",
      "_________________________________________________________________\n",
      "None\n"
     ]
    }
   ],
   "source": [
    "print(model.summary())"
   ]
  },
  {
   "cell_type": "code",
   "execution_count": 33,
   "metadata": {},
   "outputs": [
    {
     "name": "stdout",
     "output_type": "stream",
     "text": [
      "Epoch 1/100\n",
      "11/11 [==============================] - 7s 171ms/step - loss: 0.0919 - mean_squared_error: 0.0919 - val_loss: 0.0013 - val_mean_squared_error: 0.0013\n",
      "Epoch 2/100\n",
      "11/11 [==============================] - 0s 16ms/step - loss: 0.0275 - mean_squared_error: 0.0275 - val_loss: 0.0058 - val_mean_squared_error: 0.0058\n",
      "Epoch 3/100\n",
      "11/11 [==============================] - 0s 17ms/step - loss: 0.0086 - mean_squared_error: 0.0086 - val_loss: 0.0010 - val_mean_squared_error: 0.0010\n",
      "Epoch 4/100\n",
      "11/11 [==============================] - 0s 15ms/step - loss: 0.0038 - mean_squared_error: 0.0038 - val_loss: 0.0020 - val_mean_squared_error: 0.0020\n",
      "Epoch 5/100\n",
      "11/11 [==============================] - 0s 15ms/step - loss: 0.0029 - mean_squared_error: 0.0029 - val_loss: 4.1101e-04 - val_mean_squared_error: 4.1101e-04\n",
      "Epoch 6/100\n",
      "11/11 [==============================] - 0s 15ms/step - loss: 0.0021 - mean_squared_error: 0.0021 - val_loss: 4.9650e-04 - val_mean_squared_error: 4.9650e-04\n",
      "Epoch 7/100\n",
      "11/11 [==============================] - 0s 15ms/step - loss: 0.0021 - mean_squared_error: 0.0021 - val_loss: 4.6464e-04 - val_mean_squared_error: 4.6464e-04\n",
      "Epoch 8/100\n",
      "11/11 [==============================] - 0s 14ms/step - loss: 0.0020 - mean_squared_error: 0.0020 - val_loss: 4.2317e-04 - val_mean_squared_error: 4.2317e-04\n",
      "Epoch 9/100\n",
      "11/11 [==============================] - 0s 14ms/step - loss: 0.0020 - mean_squared_error: 0.0020 - val_loss: 4.4764e-04 - val_mean_squared_error: 4.4764e-04\n",
      "Epoch 10/100\n",
      "11/11 [==============================] - 0s 18ms/step - loss: 0.0020 - mean_squared_error: 0.0020 - val_loss: 3.8516e-04 - val_mean_squared_error: 3.8516e-04\n",
      "Epoch 11/100\n",
      "11/11 [==============================] - 0s 17ms/step - loss: 0.0021 - mean_squared_error: 0.0021 - val_loss: 5.0117e-04 - val_mean_squared_error: 5.0117e-04\n",
      "Epoch 12/100\n",
      "11/11 [==============================] - 0s 15ms/step - loss: 0.0018 - mean_squared_error: 0.0018 - val_loss: 3.8126e-04 - val_mean_squared_error: 3.8126e-04\n",
      "Epoch 13/100\n",
      "11/11 [==============================] - 0s 14ms/step - loss: 0.0019 - mean_squared_error: 0.0019 - val_loss: 4.0150e-04 - val_mean_squared_error: 4.0150e-04\n",
      "Epoch 14/100\n",
      "11/11 [==============================] - 0s 15ms/step - loss: 0.0018 - mean_squared_error: 0.0018 - val_loss: 4.6802e-04 - val_mean_squared_error: 4.6802e-04\n",
      "Epoch 15/100\n",
      "11/11 [==============================] - 0s 15ms/step - loss: 0.0016 - mean_squared_error: 0.0016 - val_loss: 3.7281e-04 - val_mean_squared_error: 3.7281e-04\n",
      "Epoch 16/100\n",
      "11/11 [==============================] - 0s 15ms/step - loss: 0.0017 - mean_squared_error: 0.0017 - val_loss: 3.7664e-04 - val_mean_squared_error: 3.7664e-04\n",
      "Epoch 17/100\n",
      "11/11 [==============================] - 0s 15ms/step - loss: 0.0019 - mean_squared_error: 0.0019 - val_loss: 4.3041e-04 - val_mean_squared_error: 4.3041e-04\n",
      "Epoch 18/100\n",
      "11/11 [==============================] - 0s 15ms/step - loss: 0.0017 - mean_squared_error: 0.0017 - val_loss: 3.6988e-04 - val_mean_squared_error: 3.6988e-04\n",
      "Epoch 19/100\n",
      "11/11 [==============================] - 0s 14ms/step - loss: 0.0016 - mean_squared_error: 0.0016 - val_loss: 3.8616e-04 - val_mean_squared_error: 3.8616e-04\n",
      "Epoch 20/100\n",
      "11/11 [==============================] - 0s 15ms/step - loss: 0.0017 - mean_squared_error: 0.0017 - val_loss: 4.1364e-04 - val_mean_squared_error: 4.1364e-04\n",
      "Epoch 21/100\n",
      "11/11 [==============================] - 0s 15ms/step - loss: 0.0016 - mean_squared_error: 0.0016 - val_loss: 3.9489e-04 - val_mean_squared_error: 3.9489e-04\n",
      "Epoch 22/100\n",
      "11/11 [==============================] - 0s 15ms/step - loss: 0.0015 - mean_squared_error: 0.0015 - val_loss: 3.7410e-04 - val_mean_squared_error: 3.7410e-04\n",
      "Epoch 23/100\n",
      "11/11 [==============================] - 0s 15ms/step - loss: 0.0015 - mean_squared_error: 0.0015 - val_loss: 3.8003e-04 - val_mean_squared_error: 3.8003e-04\n",
      "Epoch 24/100\n",
      "11/11 [==============================] - 0s 15ms/step - loss: 0.0015 - mean_squared_error: 0.0015 - val_loss: 3.7235e-04 - val_mean_squared_error: 3.7235e-04\n",
      "Epoch 25/100\n",
      "11/11 [==============================] - 0s 14ms/step - loss: 0.0015 - mean_squared_error: 0.0015 - val_loss: 3.6308e-04 - val_mean_squared_error: 3.6308e-04\n",
      "Epoch 26/100\n",
      "11/11 [==============================] - 0s 14ms/step - loss: 0.0014 - mean_squared_error: 0.0014 - val_loss: 4.0566e-04 - val_mean_squared_error: 4.0566e-04\n",
      "Epoch 27/100\n",
      "11/11 [==============================] - 0s 15ms/step - loss: 0.0014 - mean_squared_error: 0.0014 - val_loss: 4.5936e-04 - val_mean_squared_error: 4.5936e-04\n",
      "Epoch 28/100\n",
      "11/11 [==============================] - 0s 15ms/step - loss: 0.0013 - mean_squared_error: 0.0013 - val_loss: 3.6215e-04 - val_mean_squared_error: 3.6215e-04\n",
      "Epoch 29/100\n",
      "11/11 [==============================] - 0s 15ms/step - loss: 0.0014 - mean_squared_error: 0.0014 - val_loss: 3.7167e-04 - val_mean_squared_error: 3.7167e-04\n",
      "Epoch 30/100\n",
      "11/11 [==============================] - 0s 15ms/step - loss: 0.0013 - mean_squared_error: 0.0013 - val_loss: 3.6961e-04 - val_mean_squared_error: 3.6961e-04\n",
      "Epoch 31/100\n",
      "11/11 [==============================] - 0s 15ms/step - loss: 0.0013 - mean_squared_error: 0.0013 - val_loss: 4.4982e-04 - val_mean_squared_error: 4.4982e-04\n",
      "Epoch 32/100\n",
      "11/11 [==============================] - 0s 15ms/step - loss: 0.0012 - mean_squared_error: 0.0012 - val_loss: 3.9314e-04 - val_mean_squared_error: 3.9314e-04\n",
      "Epoch 33/100\n",
      "11/11 [==============================] - 0s 16ms/step - loss: 0.0012 - mean_squared_error: 0.0012 - val_loss: 3.9425e-04 - val_mean_squared_error: 3.9425e-04\n",
      "Epoch 34/100\n",
      "11/11 [==============================] - 0s 15ms/step - loss: 0.0012 - mean_squared_error: 0.0012 - val_loss: 5.3763e-04 - val_mean_squared_error: 5.3763e-04\n",
      "Epoch 35/100\n",
      "11/11 [==============================] - 0s 16ms/step - loss: 0.0011 - mean_squared_error: 0.0011 - val_loss: 3.7341e-04 - val_mean_squared_error: 3.7341e-04\n",
      "Epoch 36/100\n",
      "11/11 [==============================] - 0s 18ms/step - loss: 0.0013 - mean_squared_error: 0.0013 - val_loss: 3.8277e-04 - val_mean_squared_error: 3.8277e-04\n",
      "Epoch 37/100\n",
      "11/11 [==============================] - 0s 16ms/step - loss: 0.0013 - mean_squared_error: 0.0013 - val_loss: 3.6488e-04 - val_mean_squared_error: 3.6488e-04\n",
      "Epoch 38/100\n",
      "11/11 [==============================] - 0s 18ms/step - loss: 0.0013 - mean_squared_error: 0.0013 - val_loss: 3.8632e-04 - val_mean_squared_error: 3.8632e-04\n",
      "Epoch 39/100\n",
      "11/11 [==============================] - 0s 15ms/step - loss: 0.0012 - mean_squared_error: 0.0012 - val_loss: 5.7123e-04 - val_mean_squared_error: 5.7123e-04\n",
      "Epoch 40/100\n",
      "11/11 [==============================] - 0s 16ms/step - loss: 0.0012 - mean_squared_error: 0.0012 - val_loss: 3.6400e-04 - val_mean_squared_error: 3.6400e-04\n",
      "Epoch 41/100\n",
      "11/11 [==============================] - 0s 17ms/step - loss: 0.0012 - mean_squared_error: 0.0012 - val_loss: 3.7395e-04 - val_mean_squared_error: 3.7395e-04\n",
      "Epoch 42/100\n",
      "11/11 [==============================] - 0s 16ms/step - loss: 0.0010 - mean_squared_error: 0.0010 - val_loss: 3.5880e-04 - val_mean_squared_error: 3.5880e-04\n",
      "Epoch 43/100\n",
      "11/11 [==============================] - 0s 16ms/step - loss: 0.0010 - mean_squared_error: 0.0010 - val_loss: 3.5678e-04 - val_mean_squared_error: 3.5678e-04\n",
      "Epoch 44/100\n",
      "11/11 [==============================] - 0s 15ms/step - loss: 0.0011 - mean_squared_error: 0.0011 - val_loss: 3.6346e-04 - val_mean_squared_error: 3.6346e-04\n",
      "Epoch 45/100\n",
      "11/11 [==============================] - ETA: 0s - loss: 0.0012 - mean_squared_error: 0.00 - 0s 15ms/step - loss: 0.0012 - mean_squared_error: 0.0012 - val_loss: 3.5961e-04 - val_mean_squared_error: 3.5961e-04\n",
      "Epoch 46/100\n",
      "11/11 [==============================] - 0s 16ms/step - loss: 0.0012 - mean_squared_error: 0.0012 - val_loss: 3.5532e-04 - val_mean_squared_error: 3.5532e-04\n",
      "Epoch 47/100\n",
      "11/11 [==============================] - 0s 18ms/step - loss: 0.0011 - mean_squared_error: 0.0011 - val_loss: 7.7202e-04 - val_mean_squared_error: 7.7202e-04\n",
      "Epoch 48/100\n",
      "11/11 [==============================] - 0s 16ms/step - loss: 0.0011 - mean_squared_error: 0.0011 - val_loss: 6.3567e-04 - val_mean_squared_error: 6.3567e-04\n"
     ]
    },
    {
     "name": "stdout",
     "output_type": "stream",
     "text": [
      "Epoch 49/100\n",
      "11/11 [==============================] - 0s 16ms/step - loss: 0.0011 - mean_squared_error: 0.0011 - val_loss: 3.9282e-04 - val_mean_squared_error: 3.9282e-04\n",
      "Epoch 50/100\n",
      "11/11 [==============================] - 0s 15ms/step - loss: 0.0010 - mean_squared_error: 0.0010 - val_loss: 5.1267e-04 - val_mean_squared_error: 5.1267e-04\n",
      "Epoch 51/100\n",
      "11/11 [==============================] - 0s 16ms/step - loss: 0.0011 - mean_squared_error: 0.0011 - val_loss: 5.6225e-04 - val_mean_squared_error: 5.6225e-04\n",
      "Epoch 52/100\n",
      "11/11 [==============================] - 0s 16ms/step - loss: 0.0011 - mean_squared_error: 0.0011 - val_loss: 5.1963e-04 - val_mean_squared_error: 5.1963e-04\n",
      "Epoch 53/100\n",
      "11/11 [==============================] - 0s 17ms/step - loss: 0.0012 - mean_squared_error: 0.0012 - val_loss: 3.8943e-04 - val_mean_squared_error: 3.8943e-04\n",
      "Epoch 54/100\n",
      "11/11 [==============================] - 0s 15ms/step - loss: 0.0012 - mean_squared_error: 0.0012 - val_loss: 5.8542e-04 - val_mean_squared_error: 5.8542e-04\n",
      "Epoch 55/100\n",
      "11/11 [==============================] - 0s 16ms/step - loss: 0.0013 - mean_squared_error: 0.0013 - val_loss: 4.0936e-04 - val_mean_squared_error: 4.0936e-04\n",
      "Epoch 56/100\n",
      "11/11 [==============================] - 0s 15ms/step - loss: 0.0011 - mean_squared_error: 0.0011 - val_loss: 4.1778e-04 - val_mean_squared_error: 4.1778e-04\n",
      "Epoch 57/100\n",
      "11/11 [==============================] - 0s 17ms/step - loss: 9.4228e-04 - mean_squared_error: 9.4228e-04 - val_loss: 4.9632e-04 - val_mean_squared_error: 4.9632e-04\n",
      "Epoch 58/100\n",
      "11/11 [==============================] - 0s 16ms/step - loss: 0.0012 - mean_squared_error: 0.0012 - val_loss: 5.2065e-04 - val_mean_squared_error: 5.2065e-04\n",
      "Epoch 59/100\n",
      "11/11 [==============================] - 0s 17ms/step - loss: 0.0011 - mean_squared_error: 0.0011 - val_loss: 4.6778e-04 - val_mean_squared_error: 4.6778e-04\n",
      "Epoch 60/100\n",
      "11/11 [==============================] - 0s 15ms/step - loss: 0.0011 - mean_squared_error: 0.0011 - val_loss: 3.9684e-04 - val_mean_squared_error: 3.9684e-04\n",
      "Epoch 61/100\n",
      "11/11 [==============================] - 0s 17ms/step - loss: 0.0012 - mean_squared_error: 0.0012 - val_loss: 3.5611e-04 - val_mean_squared_error: 3.5611e-04\n",
      "Epoch 62/100\n",
      "11/11 [==============================] - 0s 19ms/step - loss: 0.0010 - mean_squared_error: 0.0010 - val_loss: 3.5406e-04 - val_mean_squared_error: 3.5406e-04\n",
      "Epoch 63/100\n",
      "11/11 [==============================] - 0s 17ms/step - loss: 0.0010 - mean_squared_error: 0.0010 - val_loss: 4.6633e-04 - val_mean_squared_error: 4.6633e-04\n",
      "Epoch 64/100\n",
      "11/11 [==============================] - 0s 17ms/step - loss: 0.0010 - mean_squared_error: 0.0010 - val_loss: 3.7963e-04 - val_mean_squared_error: 3.7963e-04\n",
      "Epoch 65/100\n",
      "11/11 [==============================] - 0s 16ms/step - loss: 0.0011 - mean_squared_error: 0.0011 - val_loss: 3.4762e-04 - val_mean_squared_error: 3.4762e-04\n",
      "Epoch 66/100\n",
      "11/11 [==============================] - 0s 17ms/step - loss: 8.8784e-04 - mean_squared_error: 8.8784e-04 - val_loss: 3.8186e-04 - val_mean_squared_error: 3.8186e-04\n",
      "Epoch 67/100\n",
      "11/11 [==============================] - 0s 16ms/step - loss: 0.0010 - mean_squared_error: 0.0010 - val_loss: 3.5792e-04 - val_mean_squared_error: 3.5792e-04\n",
      "Epoch 68/100\n",
      "11/11 [==============================] - 0s 17ms/step - loss: 9.6683e-04 - mean_squared_error: 9.6683e-04 - val_loss: 3.5045e-04 - val_mean_squared_error: 3.5045e-04\n",
      "Epoch 69/100\n",
      "11/11 [==============================] - 0s 15ms/step - loss: 0.0011 - mean_squared_error: 0.0011 - val_loss: 4.2162e-04 - val_mean_squared_error: 4.2162e-04\n",
      "Epoch 70/100\n",
      "11/11 [==============================] - 0s 15ms/step - loss: 0.0011 - mean_squared_error: 0.0011 - val_loss: 4.7350e-04 - val_mean_squared_error: 4.7350e-04\n",
      "Epoch 71/100\n",
      "11/11 [==============================] - 0s 15ms/step - loss: 9.8492e-04 - mean_squared_error: 9.8492e-04 - val_loss: 3.4835e-04 - val_mean_squared_error: 3.4835e-04\n",
      "Epoch 72/100\n",
      "11/11 [==============================] - 0s 15ms/step - loss: 9.5761e-04 - mean_squared_error: 9.5761e-04 - val_loss: 3.4314e-04 - val_mean_squared_error: 3.4314e-04\n",
      "Epoch 73/100\n",
      "11/11 [==============================] - 0s 16ms/step - loss: 9.8658e-04 - mean_squared_error: 9.8658e-04 - val_loss: 3.4382e-04 - val_mean_squared_error: 3.4382e-04\n",
      "Epoch 74/100\n",
      "11/11 [==============================] - 0s 17ms/step - loss: 0.0010 - mean_squared_error: 0.0010 - val_loss: 4.1248e-04 - val_mean_squared_error: 4.1248e-04\n",
      "Epoch 75/100\n",
      "11/11 [==============================] - 0s 15ms/step - loss: 9.2424e-04 - mean_squared_error: 9.2424e-04 - val_loss: 3.9221e-04 - val_mean_squared_error: 3.9221e-04\n",
      "Epoch 76/100\n",
      "11/11 [==============================] - 0s 19ms/step - loss: 9.5347e-04 - mean_squared_error: 9.5347e-04 - val_loss: 5.9069e-04 - val_mean_squared_error: 5.9069e-04\n",
      "Epoch 77/100\n",
      "11/11 [==============================] - 0s 15ms/step - loss: 0.0010 - mean_squared_error: 0.0010 - val_loss: 3.6296e-04 - val_mean_squared_error: 3.6296e-04\n",
      "Epoch 78/100\n",
      "11/11 [==============================] - 0s 14ms/step - loss: 0.0011 - mean_squared_error: 0.0011 - val_loss: 3.8357e-04 - val_mean_squared_error: 3.8357e-04\n",
      "Epoch 79/100\n",
      "11/11 [==============================] - 0s 15ms/step - loss: 9.3322e-04 - mean_squared_error: 9.3322e-04 - val_loss: 3.4458e-04 - val_mean_squared_error: 3.4458e-04\n",
      "Epoch 80/100\n",
      "11/11 [==============================] - 0s 15ms/step - loss: 9.8095e-04 - mean_squared_error: 9.8095e-04 - val_loss: 3.6425e-04 - val_mean_squared_error: 3.6425e-04\n",
      "Epoch 81/100\n",
      "11/11 [==============================] - 0s 15ms/step - loss: 9.5417e-04 - mean_squared_error: 9.5417e-04 - val_loss: 3.4663e-04 - val_mean_squared_error: 3.4663e-04\n",
      "Epoch 82/100\n",
      "11/11 [==============================] - 0s 15ms/step - loss: 9.4757e-04 - mean_squared_error: 9.4757e-04 - val_loss: 3.9172e-04 - val_mean_squared_error: 3.9172e-04\n",
      "Epoch 83/100\n",
      "11/11 [==============================] - 0s 15ms/step - loss: 0.0010 - mean_squared_error: 0.0010 - val_loss: 3.4503e-04 - val_mean_squared_error: 3.4503e-04\n",
      "Epoch 84/100\n",
      "11/11 [==============================] - 0s 14ms/step - loss: 9.4562e-04 - mean_squared_error: 9.4562e-04 - val_loss: 3.6514e-04 - val_mean_squared_error: 3.6514e-04\n",
      "Epoch 85/100\n",
      "11/11 [==============================] - 0s 15ms/step - loss: 0.0010 - mean_squared_error: 0.0010 - val_loss: 3.4539e-04 - val_mean_squared_error: 3.4539e-04\n",
      "Epoch 86/100\n",
      "11/11 [==============================] - 0s 15ms/step - loss: 0.0010 - mean_squared_error: 0.0010 - val_loss: 3.4656e-04 - val_mean_squared_error: 3.4656e-04\n",
      "Epoch 87/100\n",
      "11/11 [==============================] - 0s 15ms/step - loss: 9.9485e-04 - mean_squared_error: 9.9485e-04 - val_loss: 5.9423e-04 - val_mean_squared_error: 5.9423e-04\n",
      "Epoch 88/100\n",
      "11/11 [==============================] - 0s 15ms/step - loss: 0.0010 - mean_squared_error: 0.0010 - val_loss: 4.0758e-04 - val_mean_squared_error: 4.0758e-04\n",
      "Epoch 89/100\n",
      "11/11 [==============================] - 0s 14ms/step - loss: 9.7477e-04 - mean_squared_error: 9.7477e-04 - val_loss: 5.2548e-04 - val_mean_squared_error: 5.2548e-04\n",
      "Epoch 90/100\n",
      "11/11 [==============================] - 0s 15ms/step - loss: 0.0010 - mean_squared_error: 0.0010 - val_loss: 3.4604e-04 - val_mean_squared_error: 3.4604e-04\n",
      "Epoch 91/100\n",
      "11/11 [==============================] - 0s 14ms/step - loss: 0.0010 - mean_squared_error: 0.0010 - val_loss: 3.9404e-04 - val_mean_squared_error: 3.9404e-04\n",
      "Epoch 92/100\n",
      "11/11 [==============================] - 0s 14ms/step - loss: 0.0010 - mean_squared_error: 0.0010 - val_loss: 4.1173e-04 - val_mean_squared_error: 4.1173e-04\n",
      "Epoch 93/100\n",
      "11/11 [==============================] - 0s 16ms/step - loss: 0.0011 - mean_squared_error: 0.0011 - val_loss: 3.4281e-04 - val_mean_squared_error: 3.4281e-04\n",
      "Epoch 94/100\n",
      "11/11 [==============================] - 0s 15ms/step - loss: 9.7289e-04 - mean_squared_error: 9.7289e-04 - val_loss: 3.5324e-04 - val_mean_squared_error: 3.5324e-04\n",
      "Epoch 95/100\n",
      "11/11 [==============================] - 0s 14ms/step - loss: 9.6927e-04 - mean_squared_error: 9.6927e-04 - val_loss: 3.4126e-04 - val_mean_squared_error: 3.4126e-04\n",
      "Epoch 96/100\n",
      "11/11 [==============================] - 0s 15ms/step - loss: 9.0750e-04 - mean_squared_error: 9.0750e-04 - val_loss: 3.3794e-04 - val_mean_squared_error: 3.3794e-04\n",
      "Epoch 97/100\n",
      "11/11 [==============================] - 0s 16ms/step - loss: 0.0010 - mean_squared_error: 0.0010 - val_loss: 4.1988e-04 - val_mean_squared_error: 4.1988e-04\n",
      "Epoch 98/100\n",
      "11/11 [==============================] - 0s 16ms/step - loss: 9.1156e-04 - mean_squared_error: 9.1156e-04 - val_loss: 5.2004e-04 - val_mean_squared_error: 5.2004e-04\n",
      "Epoch 99/100\n",
      "11/11 [==============================] - 0s 16ms/step - loss: 0.0011 - mean_squared_error: 0.0011 - val_loss: 4.7251e-04 - val_mean_squared_error: 4.7251e-04\n",
      "Epoch 100/100\n",
      "11/11 [==============================] - 0s 16ms/step - loss: 0.0011 - mean_squared_error: 0.0011 - val_loss: 3.3966e-04 - val_mean_squared_error: 3.3966e-04\n"
     ]
    }
   ],
   "source": [
    "#--- RUNNING THE MODEL -------- RUNNING THE MODEL -----#\n",
    "history = model.fit(trainX, trainY, \n",
    "                    epochs = 100, \n",
    "                    batch_size = 128, \n",
    "                    verbose = 1, \n",
    "                    validation_data = (valX, valY))\n",
    "#--- RUNNING THE MODEL -------- RUNNING THE MODEL -----#"
   ]
  },
  {
   "cell_type": "code",
   "execution_count": 34,
   "metadata": {},
   "outputs": [
    {
     "name": "stdout",
     "output_type": "stream",
     "text": [
      "Train Score:\n",
      "MSE: 0.00019 , RMSE: 0.01\n",
      "Validation Score:\n",
      "MSE: 0.00034 , RMSE: 0.02\n",
      "Test Score:\n",
      "MSE: 0.00026 , RMSE: 0.02\n"
     ]
    }
   ],
   "source": [
    "import math\n",
    "\n",
    "def model_score(model, X_train, y_train, X_val, y_val , X_test, y_test):\n",
    "    print('Train Score:')\n",
    "    train_score = model.evaluate(X_train, y_train, verbose=0)\n",
    "    print(\"MSE: {:.5f} , RMSE: {:.2f}\".format(train_score[0], math.sqrt(train_score[0])))\n",
    "\n",
    "    print('Validation Score:')\n",
    "    val_score = model.evaluate(X_val, y_val, verbose=0)\n",
    "    print(\"MSE: {:.5f} , RMSE: {:.2f}\".format (val_score[0], math.sqrt(val_score[0])))\n",
    "\n",
    "    print('Test Score:')\n",
    "    test_score = model.evaluate(X_test, y_test, verbose=0)\n",
    "    print(\"MSE: {:.5f} , RMSE: {:.2f}\".format (test_score[0], math.sqrt(test_score[0])))\n",
    "\n",
    "\n",
    "model_score(model, trainX, trainY ,valX, valY , testX, testY)"
   ]
  },
  {
   "cell_type": "code",
   "execution_count": 35,
   "metadata": {},
   "outputs": [
    {
     "data": {
      "image/png": "[encoded data removed]",
      "text/plain": [
       "<Figure size 432x288 with 1 Axes>"
      ]
     },
     "metadata": {
      "needs_background": "light"
     },
     "output_type": "display_data"
    }
   ],
   "source": [
    "plt.plot(history.history['loss'])\n",
    "plt.plot(history.history['val_loss'])\n",
    "plt.title('ERRORS vs EPOCHS')\n",
    "plt.ylabel('Error value')\n",
    "plt.xlabel('#epoch')\n",
    "plt.legend(['train', 'val'], loc='upper right')\n",
    "plt.show()"
   ]
  },
  {
   "cell_type": "code",
   "execution_count": 36,
   "metadata": {},
   "outputs": [
    {
     "data": {
      "image/png": "[encoded data removed]",
      "text/plain": [
       "<Figure size 432x288 with 1 Axes>"
      ]
     },
     "metadata": {
      "needs_background": "light"
     },
     "output_type": "display_data"
    }
   ],
   "source": [
    "pred = model.predict(testX)\n",
    "# print(pred.shape)\n",
    "pred = scaler.inverse_transform(pred)\n",
    "testY_actual = testY.reshape(testY.shape[0], 1)\n",
    "testY_actual = scaler.inverse_transform(testY_actual)\n",
    "# plt.plot(modified_df.index[n_train: n_test + n_train], testY_actual, 'g')\n",
    "plt.plot(testY_actual, 'g')\n",
    "plt.plot(pred, 'r')\n",
    "plt.xlabel('Time')\n",
    "plt.ylabel('Stock Prices')\n",
    "plt.title('Model performance')\n",
    "plt.legend(['Actual', 'Predicted'], loc='lower right')\n",
    "plt.grid(True)\n",
    "plt.show()"
   ]
  }
 ],
 "metadata": {
  "kernelspec": {
   "display_name": "Python 3 (ipykernel)",
   "language": "python",
   "name": "python3"
  },
  "language_info": {
   "codemirror_mode": {
    "name": "ipython",
    "version": 3
   },
   "file_extension": ".py",
   "mimetype": "text/x-python",
   "name": "python",
   "nbconvert_exporter": "python",
   "pygments_lexer": "ipython3",
   "version": "3.10.10"
  },
  "toc": {
   "base_numbering": 1,
   "nav_menu": {},
   "number_sections": true,
   "sideBar": true,
   "skip_h1_title": false,
   "title_cell": "Table of Contents",
   "title_sidebar": "Contents",
   "toc_cell": false,
   "toc_position": {},
   "toc_section_display": true,
   "toc_window_display": false
  }
 },
 "nbformat": 4,
 "nbformat_minor": 2
}
